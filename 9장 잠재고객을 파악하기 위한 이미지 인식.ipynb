{
 "cells": [
  {
   "cell_type": "markdown",
   "metadata": {},
   "source": [
    "# 테크닉 81 : 이미지 데이터를 불러오자"
   ]
  },
  {
   "cell_type": "code",
   "execution_count": 1,
   "metadata": {},
   "outputs": [
    {
     "name": "stdout",
     "output_type": "stream",
     "text": [
      "* width of img : 1920\n",
      "* height of img : 1440\n"
     ]
    }
   ],
   "source": [
    "import cv2\n",
    "\n",
    "# get information of image\n",
    "img = cv2.imread(\"./pyda100-master/Chapter_9/img/img01.jpg\")\n",
    "height, width, channel = img.shape\n",
    "print(\"* width of img :\", width)\n",
    "print(\"* height of img :\", height)\n",
    "\n",
    "# show image in window\n",
    "cv2.imshow(\"img\", img)  # 'waitKey()'메소드 없이 'imshow()'메소드를 호출하면, window에 image가 나타나지 않음\n",
    "cv2.waitKey(5000)\n",
    "cv2.destroyAllWindows()"
   ]
  },
  {
   "cell_type": "markdown",
   "metadata": {},
   "source": [
    "# 테크닉 82 : 동영상 데이터를 불러오자"
   ]
  },
  {
   "cell_type": "code",
   "execution_count": 2,
   "metadata": {},
   "outputs": [
    {
     "name": "stdout",
     "output_type": "stream",
     "text": [
      "* width of frame : 1920.0\n",
      "* height of frame : 1440.0\n",
      "* count of frame : 401.0\n",
      "* fps : 30.0 \n",
      "\n"
     ]
    }
   ],
   "source": [
    "import cv2\n",
    "\n",
    "# get information of video\n",
    "cap    = cv2.VideoCapture(\"./pyda100-master/Chapter_9/mov/mov01.avi\")\n",
    "width  = cap.get(cv2.CAP_PROP_FRAME_WIDTH)\n",
    "height = cap.get(cv2.CAP_PROP_FRAME_HEIGHT)\n",
    "count  = cap.get(cv2.CAP_PROP_FRAME_COUNT)\n",
    "fps    = cap.get(cv2.CAP_PROP_FPS)\n",
    "print(\"* width of frame :\", width)\n",
    "print(\"* height of frame :\", height)\n",
    "print(\"* count of frame :\", count)\n",
    "print(\"* fps :\", fps, \"\\n\")\n",
    "\n",
    "# show frames in window\n",
    "if cap.isOpened() :\n",
    "\n",
    "    while True :\n",
    "\n",
    "        ret, frame = cap.read()\n",
    "        if ret :\n",
    "\n",
    "            cv2.imshow(\"frame\", frame)\n",
    "            cv2.waitKey(1)\n",
    "        \n",
    "        else : \n",
    "\n",
    "            break\n",
    "\n",
    "cap.release()\n",
    "cv2.destroyAllWindows()\n"
   ]
  },
  {
   "cell_type": "markdown",
   "metadata": {},
   "source": [
    "# 테크닉 83 : 동영상을 이미지로 나누고 저장하자"
   ]
  },
  {
   "cell_type": "code",
   "execution_count": 3,
   "metadata": {},
   "outputs": [],
   "source": [
    "cap = cv2.VideoCapture(\"./pyda100-master/Chapter_9/mov/mov01.avi\")\n",
    "snapshot_number = 0\n",
    "if cap.isOpened() :\n",
    "\n",
    "    while True :\n",
    "\n",
    "        ret, frame = cap.read()\n",
    "        if ret :\n",
    "\n",
    "            cv2.imshow(\"frame\", frame)\n",
    "            cv2.imwrite(\"./dump_files/snapshot/snapshot_{}.jpg\".format(snapshot_number), frame)\n",
    "            cv2.waitKey(1)\n",
    "            snapshot_number = snapshot_number + 1\n",
    "        \n",
    "        else : \n",
    "\n",
    "            break\n",
    "\n",
    "cap.release()\n",
    "cv2.destroyAllWindows()"
   ]
  },
  {
   "cell_type": "markdown",
   "metadata": {},
   "source": [
    "# 테크닉 84 : 이미지 속에 사람이 어디에 있는지 검출해 보자"
   ]
  },
  {
   "cell_type": "code",
   "execution_count": 16,
   "metadata": {},
   "outputs": [
    {
     "data": {
      "text/plain": [
       "True"
      ]
     },
     "execution_count": 16,
     "metadata": {},
     "output_type": "execute_result"
    }
   ],
   "source": [
    "import cv2\n",
    "\n",
    "hog = cv2.HOGDescriptor()                                        # HOG Descriptor 객체(주어진 이미지의 HOG feature를 생성하는 객체) 선언\n",
    "hog.setSVMDetector(cv2.HOGDescriptor_getDefaultPeopleDetector()) # 선언된 HOG Descriptor 객체에 인간을 검출하는 Supoort Vector Machine 검출기 장착\n",
    "                                                                 # (HOG Descriptor가 HOG feature를 생성하면, 곧바로 해당 HOG feature를 장착된 Supoort Vector Machine에 입력함)\n",
    "hog_parameters = {\"winStride\" : (8, 8), \"padding\" : (32, 32), \"scale\" : 1.05, \"hitThreshold\" : 0, \"finalThreshold\" : 5}\n",
    "                                                            \n",
    "\n",
    "img = cv2.imread(\"pyda100-master/Chapter_9/img/img01.jpg\")\n",
    "gray_img = cv2.cvtColor(img, cv2.COLOR_BGR2GRAY)    \n",
    "list_of_human, r = hog.detectMultiScale(gray_img, **hog_parameters)\n",
    "if (len(list_of_human) > 0) :\n",
    "\n",
    "    for (x, y, w, h) in list_of_human :\n",
    "\n",
    "        cv2.rectangle(img, (x, y), (x + w, y + h), (255, 255, 255), 3)                                                       \n",
    "\n",
    "cv2.imwrite(\"img/temp_of_detecting_human.jpg\", img)"
   ]
  },
  {
   "cell_type": "markdown",
   "metadata": {},
   "source": [
    "# 테크닉 85 : 이미지 속 사람 얼굴을 검출해 보자"
   ]
  },
  {
   "cell_type": "code",
   "execution_count": 15,
   "metadata": {},
   "outputs": [
    {
     "data": {
      "text/plain": [
       "True"
      ]
     },
     "execution_count": 15,
     "metadata": {},
     "output_type": "execute_result"
    }
   ],
   "source": [
    "import cv2\n",
    "\n",
    "cascade_file = cv2.data.haarcascades + \"haarcascade_frontalface_alt.xml\"\n",
    "cascade = cv2.CascadeClassifier(cascade_file)\n",
    "\n",
    "img = cv2.imread(\"pyda100-master/Chapter_9/img/img02.jpg\")\n",
    "gray_img = cv2.cvtColor(img, cv2.COLOR_BGR2GRAY)\n",
    "list_of_face = cascade.detectMultiScale(gray_img, minSize=(50, 50))\n",
    "\n",
    "for (x, y, w, h) in list_of_face :\n",
    "\n",
    "    cv2.rectangle(img, (x, y), (x + w, y + h), (255, 255, 255), 3)\n",
    "\n",
    "cv2.imwrite(\"img/temp_of_classifing_face.jpg\", img)"
   ]
  }
 ],
 "metadata": {
  "kernelspec": {
   "display_name": "Python 3.7.10 ('base')",
   "language": "python",
   "name": "python3"
  },
  "language_info": {
   "codemirror_mode": {
    "name": "ipython",
    "version": 3
   },
   "file_extension": ".py",
   "mimetype": "text/x-python",
   "name": "python",
   "nbconvert_exporter": "python",
   "pygments_lexer": "ipython3",
   "version": "3.7.10"
  },
  "orig_nbformat": 4,
  "vscode": {
   "interpreter": {
    "hash": "ad2bdc8ecc057115af97d19610ffacc2b4e99fae6737bb82f5d7fb13d2f2c186"
   }
  }
 },
 "nbformat": 4,
 "nbformat_minor": 2
}
