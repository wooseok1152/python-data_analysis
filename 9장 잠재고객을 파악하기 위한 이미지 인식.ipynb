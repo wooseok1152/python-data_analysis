{
 "cells": [
  {
   "cell_type": "markdown",
   "metadata": {},
   "source": [
    "# 테크닉 81 : 이미지 데이터를 불러오자"
   ]
  },
  {
   "cell_type": "code",
   "execution_count": 1,
   "metadata": {},
   "outputs": [
    {
     "name": "stdout",
     "output_type": "stream",
     "text": [
      "* width of img : 1920\n",
      "* height of img : 1440\n"
     ]
    }
   ],
   "source": [
    "import cv2\n",
    "\n",
    "# get information of image\n",
    "img = cv2.imread(\"./pyda100-master/Chapter_9/img/img01.jpg\")\n",
    "height, width, channel = img.shape\n",
    "print(\"* width of img :\", width)\n",
    "print(\"* height of img :\", height)\n",
    "\n",
    "# show image in window\n",
    "cv2.imshow(\"img\", img)  # 'waitKey()'메소드 없이 'imshow()'메소드를 호출하면, window에 image가 나타나지 않음\n",
    "cv2.waitKey(5000)\n",
    "cv2.destroyAllWindows()"
   ]
  },
  {
   "cell_type": "markdown",
   "metadata": {},
   "source": [
    "# 테크닉 82 : 동영상 데이터를 불러오자"
   ]
  },
  {
   "cell_type": "code",
   "execution_count": 2,
   "metadata": {},
   "outputs": [
    {
     "name": "stdout",
     "output_type": "stream",
     "text": [
      "* width of frame : 1920.0\n",
      "* height of frame : 1440.0\n",
      "* count of frame : 401.0\n",
      "* fps : 30.0 \n",
      "\n"
     ]
    }
   ],
   "source": [
    "import cv2\n",
    "\n",
    "# get information of video\n",
    "cap    = cv2.VideoCapture(\"./pyda100-master/Chapter_9/mov/mov01.avi\")\n",
    "width  = cap.get(cv2.CAP_PROP_FRAME_WIDTH)\n",
    "height = cap.get(cv2.CAP_PROP_FRAME_HEIGHT)\n",
    "count  = cap.get(cv2.CAP_PROP_FRAME_COUNT)\n",
    "fps    = cap.get(cv2.CAP_PROP_FPS)\n",
    "print(\"* width of frame :\", width)\n",
    "print(\"* height of frame :\", height)\n",
    "print(\"* count of frame :\", count)\n",
    "print(\"* fps :\", fps, \"\\n\")\n",
    "\n",
    "# show frames in window\n",
    "if cap.isOpened() :\n",
    "\n",
    "    while True :\n",
    "\n",
    "        ret, frame = cap.read()\n",
    "        if ret :\n",
    "\n",
    "            cv2.imshow(\"frame\", frame)\n",
    "            cv2.waitKey(1)\n",
    "        \n",
    "        else : \n",
    "\n",
    "            break\n",
    "\n",
    "cap.release()\n",
    "cv2.destroyAllWindows()\n"
   ]
  },
  {
   "cell_type": "markdown",
   "metadata": {},
   "source": [
    "# 테크닉 83 : 동영상을 이미지로 나누고 저장하자"
   ]
  },
  {
   "cell_type": "code",
   "execution_count": 3,
   "metadata": {},
   "outputs": [],
   "source": [
    "cap = cv2.VideoCapture(\"./pyda100-master/Chapter_9/mov/mov01.avi\")\n",
    "snapshot_number = 0\n",
    "if cap.isOpened() :\n",
    "\n",
    "    while True :\n",
    "\n",
    "        ret, frame = cap.read()\n",
    "        if ret :\n",
    "\n",
    "            cv2.imshow(\"frame\", frame)\n",
    "            cv2.imwrite(\"./dump_files/snapshot/snapshot_{}.jpg\".format(snapshot_number), frame)\n",
    "            cv2.waitKey(1)\n",
    "            snapshot_number = snapshot_number + 1\n",
    "        \n",
    "        else : \n",
    "\n",
    "            break\n",
    "\n",
    "cap.release()\n",
    "cv2.destroyAllWindows()"
   ]
  },
  {
   "cell_type": "markdown",
   "metadata": {},
   "source": [
    "# 테크닉 84 : 이미지 속에 사람이 어디에 있는지 검출해 보자"
   ]
  },
  {
   "cell_type": "code",
   "execution_count": null,
   "metadata": {},
   "outputs": [],
   "source": [
    "import cv2\n",
    "\n",
    "hog = cv2.HOGDescriptor()"
   ]
  }
 ],
 "metadata": {
  "kernelspec": {
   "display_name": "Python 3.7.10 ('base')",
   "language": "python",
   "name": "python3"
  },
  "language_info": {
   "codemirror_mode": {
    "name": "ipython",
    "version": 3
   },
   "file_extension": ".py",
   "mimetype": "text/x-python",
   "name": "python",
   "nbconvert_exporter": "python",
   "pygments_lexer": "ipython3",
   "version": "3.7.10"
  },
  "orig_nbformat": 4,
  "vscode": {
   "interpreter": {
    "hash": "96524f86b0b1b5fcccaf6e9f72bd774932a2fbfc39a1b2a81abfafa483dfe928"
   }
  }
 },
 "nbformat": 4,
 "nbformat_minor": 2
}
